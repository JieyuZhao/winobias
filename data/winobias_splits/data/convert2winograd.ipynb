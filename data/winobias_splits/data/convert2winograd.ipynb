{
 "cells": [
  {
   "cell_type": "code",
   "execution_count": 1,
   "metadata": {},
   "outputs": [],
   "source": [
    "import nltk\n",
    "import sys\n",
    "import re"
   ]
  },
  {
   "cell_type": "code",
   "execution_count": 9,
   "metadata": {},
   "outputs": [],
   "source": [
    "female_occs = [x.strip() for x in open('../female_occupations.txt', 'r').readlines()]\n",
    "male_occs = [x.strip() for x in open('../male_occupations.txt', 'r').readlines()]"
   ]
  },
  {
   "cell_type": "code",
   "execution_count": 12,
   "metadata": {},
   "outputs": [],
   "source": [
    "occs = female_occs + male_occs +['construction']"
   ]
  },
  {
   "cell_type": "code",
   "execution_count": 13,
   "metadata": {},
   "outputs": [
    {
     "data": {
      "text/plain": [
       "['attendant',\n",
       " 'cashier',\n",
       " 'teacher',\n",
       " 'nurse',\n",
       " 'assistant',\n",
       " 'secretary',\n",
       " 'auditor',\n",
       " 'cleaner',\n",
       " 'receptionist',\n",
       " 'clerk',\n",
       " 'counselor',\n",
       " 'designer',\n",
       " 'hairdresser',\n",
       " 'writer',\n",
       " 'housekeeper',\n",
       " 'baker',\n",
       " 'accountant',\n",
       " 'editor',\n",
       " 'librarian',\n",
       " 'tailor',\n",
       " 'driver',\n",
       " 'supervisor',\n",
       " 'janitor',\n",
       " 'cook',\n",
       " 'mover',\n",
       " 'laborer',\n",
       " 'construction worker',\n",
       " 'chief',\n",
       " 'developer',\n",
       " 'carpenter',\n",
       " 'manager',\n",
       " 'lawyer',\n",
       " 'farmer',\n",
       " 'salesperson',\n",
       " 'physician',\n",
       " 'guard',\n",
       " 'analyst',\n",
       " 'mechanic',\n",
       " 'sheriff',\n",
       " 'CEO',\n",
       " 'construction']"
      ]
     },
     "execution_count": 13,
     "metadata": {},
     "output_type": "execute_result"
    }
   ],
   "source": [
    "occs"
   ]
  },
  {
   "cell_type": "code",
   "execution_count": 70,
   "metadata": {},
   "outputs": [],
   "source": [
    "import json"
   ]
  },
  {
   "cell_type": "code",
   "execution_count": 102,
   "metadata": {},
   "outputs": [],
   "source": [
    "entityIdx = {'[':'1',']':'1','(':'2',')':'2','{':'3','}':'3'}\n",
    "filename = 'pro_stereotyped_type2.txt.dev'\n",
    "with open(filename, 'r') as f:\n",
    "    all_annotations = []\n",
    "    toreplace = []\n",
    "    count = 0\n",
    "    for line in f:\n",
    "        line = re.sub('^\\s*[0-9]+\\s*', '', line)\n",
    "        tokens = nltk.word_tokenize(line)\n",
    "        all_annotations = []\n",
    "        annotation = []\n",
    "        occ = []\n",
    "        flag = 0\n",
    "        true = \"\"\n",
    "        for idx in range(0,len(tokens)):\n",
    "            word = tokens[idx]\n",
    "            if word in entityIdx:\n",
    "                annotation.append(idx)\n",
    "                flag = 1\n",
    "            elif word in occs:\n",
    "                occ.append(word)\n",
    "        true = tokens[annotation[0] + 1:annotation[1]]\n",
    "        true = [x.lower() for x in true]\n",
    "        true_occ = \" \".join(true)\n",
    "        if len(occ) < 2:\n",
    "            print(tokens)\n",
    "        if occ[0] in true:\n",
    "            if occ[1] == 'construction':\n",
    "                occ[1] = 'construction worker'\n",
    "            all_annotations.append([annotation, occ[1], true])\n",
    "        else:\n",
    "            if occ[0] == 'construction':\n",
    "                occ[0] = 'construction worker'\n",
    "            all_annotations.append([annotation, occ[0], true])\n",
    "        true_question = dict()\n",
    "        true_question[\"question_id\"] = count\n",
    "\n",
    "        tokens[annotation[2] + 1] = true_occ\n",
    "        true_sent = ' '.join(tokens)\n",
    "        true_sent = re.sub('\\[ |\\ ]', '', true_sent)\n",
    "        true_question[\"substitution\"] = true_sent\n",
    "        true_question[\"correctness\"] = True\n",
    "        toreplace.append(true_question)\n",
    "        flase_question = dict()\n",
    "        tokens[annotation[2] + 1] = 'the ' + all_annotations[0][1]\n",
    "        flase_question[\"question_id\"] = count\n",
    "        sent = ' '.join(tokens)\n",
    "        sent = re.sub('\\[ |\\ ]', '', sent)\n",
    "        flase_question[\"substitution\"] = sent\n",
    "        flase_question[\"correctness\"] = False\n",
    "        toreplace.append(flase_question)\n",
    "        count += 1\n",
    "json.dump(toreplace,open(filename + '.json', 'w'))"
   ]
  },
  {
   "cell_type": "code",
   "execution_count": null,
   "metadata": {},
   "outputs": [],
   "source": []
  }
 ],
 "metadata": {
  "kernelspec": {
   "display_name": "Python 3",
   "language": "python",
   "name": "python3"
  },
  "language_info": {
   "codemirror_mode": {
    "name": "ipython",
    "version": 3
   },
   "file_extension": ".py",
   "mimetype": "text/x-python",
   "name": "python",
   "nbconvert_exporter": "python",
   "pygments_lexer": "ipython3",
   "version": "3.6.1"
  }
 },
 "nbformat": 4,
 "nbformat_minor": 2
}
